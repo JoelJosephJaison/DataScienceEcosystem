{
 "cells": [
  {
   "cell_type": "markdown",
   "id": "10d8c1c4-c4bf-4f10-a01d-39e515f7c4f5",
   "metadata": {},
   "source": [
    "# Data Science Tools and Ecosystem"
   ]
  },
  {
   "cell_type": "markdown",
   "id": "6e3b26d5-068c-4f86-80fa-228dc7e64fdb",
   "metadata": {},
   "source": [
    "In this notebook, Data Science Tools and Ecosystem are summarized."
   ]
  },
  {
   "cell_type": "markdown",
   "id": "91cac4ee-2d09-4d9c-9e79-0cd7e7b2a5ae",
   "metadata": {},
   "source": [
    "__Objectives:__\n",
    "* To list popular Languages used by Data Scientists\n",
    "* To list popular Libraries used in Data Science\n",
    "* To list well known Data Science Tools\n",
    "* To Comment on cells"
   ]
  },
  {
   "cell_type": "markdown",
   "id": "6b23741f-cfdb-4534-8319-9ebac5f72b9c",
   "metadata": {},
   "source": [
    "Some of the popular languages that Data Scientists use are:\n",
    "\n",
    "1) Python\n",
    "2) R\n",
    "3) Java\n",
    "4) C++\n"
   ]
  },
  {
   "cell_type": "markdown",
   "id": "47a69433-aee8-4103-ab84-b711249a615a",
   "metadata": {},
   "source": [
    "Some of the commonly used libraries used by Data Scientists include:\n",
    "1) Numpy\n",
    "2) Matplotlib\n",
    "3) Pandas"
   ]
  },
  {
   "cell_type": "markdown",
   "id": "c8cfe3e4-8ea7-44f8-8fb1-d784851c9839",
   "metadata": {},
   "source": [
    "|Data Science Tools|\n",
    "|---|\n",
    "|TensorFlow|\n",
    "|Apache Hadoop|\n",
    "|Apache Spark|"
   ]
  },
  {
   "cell_type": "markdown",
   "id": "21502d61-f9cf-4d80-b138-30571e782491",
   "metadata": {},
   "source": [
    "### Below are a few examples of evaluating arithmetic expressions in Python:"
   ]
  },
  {
   "cell_type": "code",
   "execution_count": 6,
   "id": "a56b684f-1b9f-42e7-9b36-4faf103f4fee",
   "metadata": {},
   "outputs": [
    {
     "data": {
      "text/plain": [
       "17"
      ]
     },
     "execution_count": 6,
     "metadata": {},
     "output_type": "execute_result"
    }
   ],
   "source": [
    "#This a simple arithmetic expression to mutiply then add integers\n",
    "(3*4)+5"
   ]
  },
  {
   "cell_type": "code",
   "execution_count": 7,
   "id": "2bb2e859-be17-4257-8603-9da147d74650",
   "metadata": {},
   "outputs": [
    {
     "data": {
      "text/plain": [
       "3.3333333333333335"
      ]
     },
     "execution_count": 7,
     "metadata": {},
     "output_type": "execute_result"
    }
   ],
   "source": [
    "#This will convert 200 minutes to hours by diving by 60.\n",
    "200/60"
   ]
  },
  {
   "cell_type": "markdown",
   "id": "9b35c379-ef82-4257-ae07-82047c66de43",
   "metadata": {},
   "source": [
    "## Author"
   ]
  },
  {
   "cell_type": "markdown",
   "id": "1064f657-9acd-4bb0-81c1-434466407650",
   "metadata": {},
   "source": [
    "Joel Joseph Jaison"
   ]
  }
 ],
 "metadata": {
  "kernelspec": {
   "display_name": "Python 3 (ipykernel)",
   "language": "python",
   "name": "python3"
  },
  "language_info": {
   "codemirror_mode": {
    "name": "ipython",
    "version": 3
   },
   "file_extension": ".py",
   "mimetype": "text/x-python",
   "name": "python",
   "nbconvert_exporter": "python",
   "pygments_lexer": "ipython3",
   "version": "3.11.7"
  }
 },
 "nbformat": 4,
 "nbformat_minor": 5
}
